{
 "cells": [
  {
   "cell_type": "code",
   "execution_count": 2,
   "metadata": {},
   "outputs": [
    {
     "name": "stdout",
     "output_type": "stream",
     "text": [
      "Epoch 1/10\n",
      "60000/60000 [==============================] - 36s 602us/step - loss: 0.1478 - acc: 0.9563\n",
      "Epoch 2/10\n",
      "60000/60000 [==============================] - 35s 583us/step - loss: 0.0512 - acc: 0.9840\n",
      "Epoch 3/10\n",
      "60000/60000 [==============================] - 35s 577us/step - loss: 0.0322 - acc: 0.9898\n",
      "Epoch 4/10\n",
      "60000/60000 [==============================] - 35s 586us/step - loss: 0.0213 - acc: 0.9932\n",
      "Epoch 5/10\n",
      "60000/60000 [==============================] - 35s 578us/step - loss: 0.0155 - acc: 0.9952\n",
      "Epoch 6/10\n",
      "60000/60000 [==============================] - 35s 578us/step - loss: 0.0119 - acc: 0.9962\n",
      "Epoch 7/10\n",
      "60000/60000 [==============================] - 35s 578us/step - loss: 0.0078 - acc: 0.9977\n",
      "Epoch 8/10\n",
      "60000/60000 [==============================] - 35s 578us/step - loss: 0.0081 - acc: 0.9972\n",
      "Epoch 9/10\n",
      "60000/60000 [==============================] - 35s 580us/step - loss: 0.0053 - acc: 0.9984\n",
      "Epoch 10/10\n",
      "60000/60000 [==============================] - 35s 584us/step - loss: 0.0047 - acc: 0.9986\n",
      "10000/10000 [==============================] - 1s 90us/step\n"
     ]
    },
    {
     "data": {
      "text/plain": [
       "[0.06490534910874558, 0.9859]"
      ]
     },
     "execution_count": 2,
     "metadata": {},
     "output_type": "execute_result"
    }
   ],
   "source": [
    "#python3\n",
    "# -*- coding: utf-8 -*-\n",
    "\"\"\"\n",
    "\n",
    "@author: rohit\n",
    "\"\"\"\n",
    "\n",
    "from keras.models import Sequential\n",
    "from keras.layers import Convolution2D\n",
    "from keras.layers import MaxPooling2D\n",
    "from keras.layers import Flatten\n",
    "from keras.layers import Dense\n",
    "import tensorflow as tf\n",
    "import matplotlib.pyplot as plt\n",
    "\n",
    "(X_train, y_train), (X_test, y_test) = tf.keras.datasets.mnist.load_data()\n",
    "\n",
    "X_train = X_train.reshape(X_train.shape[0], 28, 28, 1)\n",
    "\n",
    "X_test = X_test.reshape(X_test.shape[0], 28, 28, 1)\n",
    "\n",
    "X_train = X_train.astype('float32')\n",
    "\n",
    "X_test = X_test.astype('float32')\n",
    "\n",
    "X_train /= 255\n",
    "\n",
    "X_test /= 255\n",
    "\n",
    "classifier = Sequential()\n",
    "\n",
    "classifier.add(Convolution2D(32,(3,3),data_format=\"channels_last\",input_shape=(28,28,1),activation = 'relu'))\n",
    "\n",
    "classifier.add(MaxPooling2D(pool_size=(2,2)))\n",
    "\n",
    "classifier.add(Flatten())\n",
    "\n",
    "classifier.add(Dense(units = 128 , activation='relu'))\n",
    "\n",
    "classifier.add(Dense(units=10, activation='softmax'))\n",
    "\n",
    "classifier.compile(optimizer= 'adam' , loss='sparse_categorical_crossentropy',metrics=['accuracy'])\n",
    "\n",
    "classifier.fit(x=X_train ,y=y_train, epochs=10)\n",
    "\n",
    "classifier.evaluate(X_test, y_test)"
   ]
  },
  {
   "cell_type": "code",
   "execution_count": null,
   "metadata": {},
   "outputs": [],
   "source": []
  },
  {
   "cell_type": "code",
   "execution_count": null,
   "metadata": {},
   "outputs": [],
   "source": []
  }
 ],
 "metadata": {
  "kernelspec": {
   "display_name": "Python 3",
   "language": "python",
   "name": "python3"
  },
  "language_info": {
   "codemirror_mode": {
    "name": "ipython",
    "version": 3
   },
   "file_extension": ".py",
   "mimetype": "text/x-python",
   "name": "python",
   "nbconvert_exporter": "python",
   "pygments_lexer": "ipython3",
   "version": "3.7.3"
  }
 },
 "nbformat": 4,
 "nbformat_minor": 2
}
